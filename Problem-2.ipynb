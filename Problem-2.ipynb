{
 "cells": [
  {
   "cell_type": "code",
   "execution_count": null,
   "id": "9de5030d-f7e7-42e9-9c9a-a8a3abfc97f8",
   "metadata": {},
   "outputs": [],
   "source": [
    "import pandas as pd\n",
    "import numpy as np"
   ]
  },
  {
   "cell_type": "code",
   "execution_count": 2,
   "id": "0947637e-8f02-40f9-9d3a-883e018d77d3",
   "metadata": {},
   "outputs": [],
   "source": [
    "index = 'r1 r2 r3 r4 r5 r6 r7 r8 r9 r10'.split()\n",
    "columns = 'c1 c2 c3 c4 c5 c6 c7 c8 c9 c10'.split()"
   ]
  },
  {
   "cell_type": "code",
   "execution_count": null,
   "id": "91ebda17-badf-468b-a09a-48d7622b18b3",
   "metadata": {},
   "outputs": [],
   "source": [
    "# How the index, columns and array_2d look like!\n",
    "index"
   ]
  },
  {
   "cell_type": "code",
   "execution_count": null,
   "id": "37eb5fff-6999-4833-ad43-a6ca9634cf82",
   "metadata": {},
   "outputs": [],
   "source": [
    "['r1', 'r2', 'r3', 'r4', 'r5', 'r6', 'r7', 'r8', 'r9', 'r10']"
   ]
  },
  {
   "cell_type": "code",
   "execution_count": null,
   "id": "7ed35c17-1c06-4bae-a1ed-556e9287cf89",
   "metadata": {},
   "outputs": [],
   "source": [
    "['c1', 'c2', 'c3', 'c4', 'c5', 'c6', 'c7', 'c8', 'c9', 'c10']"
   ]
  },
  {
   "cell_type": "markdown",
   "id": "4de97ec0-9fec-4e7c-89eb-1e5c4aace351",
   "metadata": {},
   "source": [
    "### create a DataFrame using index, columns and array_2d now\n"
   ]
  },
  {
   "cell_type": "code",
   "execution_count": null,
   "id": "bd1f507f-6abc-440c-975c-747b8013701b",
   "metadata": {},
   "outputs": [],
   "source": []
  }
 ],
 "metadata": {
  "kernelspec": {
   "display_name": "Python 3 (ipykernel)",
   "language": "python",
   "name": "python3"
  },
  "language_info": {
   "codemirror_mode": {
    "name": "ipython",
    "version": 3
   },
   "file_extension": ".py",
   "mimetype": "text/x-python",
   "name": "python",
   "nbconvert_exporter": "python",
   "pygments_lexer": "ipython3",
   "version": "3.12.7"
  }
 },
 "nbformat": 4,
 "nbformat_minor": 5
}
