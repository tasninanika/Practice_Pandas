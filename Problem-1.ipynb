{
 "cells": [
  {
   "cell_type": "code",
   "execution_count": 2,
   "id": "206ac607-fc76-4553-b483-057a7cd87c1c",
   "metadata": {},
   "outputs": [],
   "source": [
    "import pandas as pd\n",
    "import numpy as np"
   ]
  },
  {
   "cell_type": "code",
   "execution_count": 3,
   "id": "76e34f8f-94ff-4f22-a1cf-ff30feb83734",
   "metadata": {},
   "outputs": [],
   "source": [
    "index = 'r1 r2 r3 r4 r5 r6 r7 r8 r9 r10'.split()\n",
    "columns = 'c1 c2 c3 c4 c5 c6 c7 c8 c9 c10'.split()"
   ]
  },
  {
   "cell_type": "code",
   "execution_count": 4,
   "id": "55f72411-06d6-4331-bdef-a50cbdf43193",
   "metadata": {},
   "outputs": [
    {
     "data": {
      "text/plain": [
       "['r1', 'r2', 'r3', 'r4', 'r5', 'r6', 'r7', 'r8', 'r9', 'r10']"
      ]
     },
     "execution_count": 4,
     "metadata": {},
     "output_type": "execute_result"
    }
   ],
   "source": [
    "# How the index, columns and array_2d look like!\n",
    "index"
   ]
  },
  {
   "cell_type": "code",
   "execution_count": 5,
   "id": "b789596e-be34-4d1c-8244-f846a78a4a2b",
   "metadata": {},
   "outputs": [
    {
     "data": {
      "text/plain": [
       "['r1', 'r2', 'r3', 'r4', 'r5', 'r6', 'r7', 'r8', 'r9', 'r10']"
      ]
     },
     "execution_count": 5,
     "metadata": {},
     "output_type": "execute_result"
    }
   ],
   "source": [
    "['r1', 'r2', 'r3', 'r4', 'r5', 'r6', 'r7', 'r8', 'r9', 'r10']"
   ]
  },
  {
   "cell_type": "code",
   "execution_count": 6,
   "id": "68f8718b-0324-4949-aba0-7f756422427b",
   "metadata": {},
   "outputs": [
    {
     "data": {
      "text/plain": [
       "['c1', 'c2', 'c3', 'c4', 'c5', 'c6', 'c7', 'c8', 'c9', 'c10']"
      ]
     },
     "execution_count": 6,
     "metadata": {},
     "output_type": "execute_result"
    }
   ],
   "source": [
    "['c1', 'c2', 'c3', 'c4', 'c5', 'c6', 'c7', 'c8', 'c9', 'c10']"
   ]
  },
  {
   "cell_type": "markdown",
   "id": "505ebeff-3fea-4caf-8781-1b5aca21dd5d",
   "metadata": {},
   "source": [
    "### Using arange make a 2d array (10, 10) of 100 to 0 values."
   ]
  },
  {
   "cell_type": "code",
   "execution_count": 10,
   "id": "60000eb4-ca2b-41de-9bd1-a0c1f512f670",
   "metadata": {},
   "outputs": [
    {
     "ename": "TypeError",
     "evalue": "arange: scalar arguments expected instead of a tuple.",
     "output_type": "error",
     "traceback": [
      "\u001b[1;31m---------------------------------------------------------------------------\u001b[0m",
      "\u001b[1;31mTypeError\u001b[0m                                 Traceback (most recent call last)",
      "Cell \u001b[1;32mIn[10], line 1\u001b[0m\n\u001b[1;32m----> 1\u001b[0m array_2d \u001b[38;5;241m=\u001b[39m np\u001b[38;5;241m.\u001b[39marange((\u001b[38;5;241m100\u001b[39m,\u001b[38;5;241m0\u001b[39m))\n\u001b[0;32m      2\u001b[0m array_2d\n",
      "\u001b[1;31mTypeError\u001b[0m: arange: scalar arguments expected instead of a tuple."
     ]
    }
   ],
   "source": [
    "array_2d = np.arange((100,0))\n",
    "array_2d"
   ]
  },
  {
   "cell_type": "code",
   "execution_count": null,
   "id": "93782b4c-21be-433a-a92f-d6505f36cff9",
   "metadata": {},
   "outputs": [],
   "source": []
  }
 ],
 "metadata": {
  "kernelspec": {
   "display_name": "Python 3 (ipykernel)",
   "language": "python",
   "name": "python3"
  },
  "language_info": {
   "codemirror_mode": {
    "name": "ipython",
    "version": 3
   },
   "file_extension": ".py",
   "mimetype": "text/x-python",
   "name": "python",
   "nbconvert_exporter": "python",
   "pygments_lexer": "ipython3",
   "version": "3.12.7"
  }
 },
 "nbformat": 4,
 "nbformat_minor": 5
}
