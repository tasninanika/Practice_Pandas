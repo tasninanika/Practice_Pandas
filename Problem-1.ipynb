{
 "cells": [
  {
   "cell_type": "code",
   "execution_count": null,
   "id": "206ac607-fc76-4553-b483-057a7cd87c1c",
   "metadata": {},
   "outputs": [],
   "source": [
    "import pandas as pd\n",
    "import numpy as np"
   ]
  },
  {
   "cell_type": "code",
   "execution_count": null,
   "id": "76e34f8f-94ff-4f22-a1cf-ff30feb83734",
   "metadata": {},
   "outputs": [],
   "source": [
    "index = 'r1 r2 r3 r4 r5 r6 r7 r8 r9 r10'.split()\n",
    "columns = 'c1 c2 c3 c4 c5 c6 c7 c8 c9 c10'.split()"
   ]
  },
  {
   "cell_type": "code",
   "execution_count": null,
   "id": "55f72411-06d6-4331-bdef-a50cbdf43193",
   "metadata": {},
   "outputs": [],
   "source": [
    "# How the index, columns and array_2d look like!\n",
    "index"
   ]
  },
  {
   "cell_type": "code",
   "execution_count": null,
   "id": "b789596e-be34-4d1c-8244-f846a78a4a2b",
   "metadata": {},
   "outputs": [],
   "source": [
    "['r1', 'r2', 'r3', 'r4', 'r5', 'r6', 'r7', 'r8', 'r9', 'r10']"
   ]
  },
  {
   "cell_type": "code",
   "execution_count": null,
   "id": "68f8718b-0324-4949-aba0-7f756422427b",
   "metadata": {},
   "outputs": [],
   "source": [
    "['c1', 'c2', 'c3', 'c4', 'c5', 'c6', 'c7', 'c8', 'c9', 'c10']"
   ]
  },
  {
   "cell_type": "markdown",
   "id": "505ebeff-3fea-4caf-8781-1b5aca21dd5d",
   "metadata": {},
   "source": [
    "### Using arange make a 2d array (10, 10) of 100 to 0 values."
   ]
  }
 ],
 "metadata": {
  "kernelspec": {
   "display_name": "Python 3 (ipykernel)",
   "language": "python",
   "name": "python3"
  },
  "language_info": {
   "codemirror_mode": {
    "name": "ipython",
    "version": 3
   },
   "file_extension": ".py",
   "mimetype": "text/x-python",
   "name": "python",
   "nbconvert_exporter": "python",
   "pygments_lexer": "ipython3",
   "version": "3.12.7"
  }
 },
 "nbformat": 4,
 "nbformat_minor": 5
}
