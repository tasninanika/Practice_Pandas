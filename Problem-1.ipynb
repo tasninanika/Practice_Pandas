{
 "cells": [
  {
   "cell_type": "code",
   "execution_count": 2,
   "id": "206ac607-fc76-4553-b483-057a7cd87c1c",
   "metadata": {},
   "outputs": [],
   "source": [
    "import pandas as pd\n",
    "import numpy as np"
   ]
  },
  {
   "cell_type": "code",
   "execution_count": 3,
   "id": "76e34f8f-94ff-4f22-a1cf-ff30feb83734",
   "metadata": {},
   "outputs": [],
   "source": [
    "index = 'r1 r2 r3 r4 r5 r6 r7 r8 r9 r10'.split()\n",
    "columns = 'c1 c2 c3 c4 c5 c6 c7 c8 c9 c10'.split()"
   ]
  },
  {
   "cell_type": "code",
   "execution_count": 4,
   "id": "55f72411-06d6-4331-bdef-a50cbdf43193",
   "metadata": {},
   "outputs": [
    {
     "data": {
      "text/plain": [
       "['r1', 'r2', 'r3', 'r4', 'r5', 'r6', 'r7', 'r8', 'r9', 'r10']"
      ]
     },
     "execution_count": 4,
     "metadata": {},
     "output_type": "execute_result"
    }
   ],
   "source": [
    "# How the index, columns and array_2d look like!\n",
    "index"
   ]
  },
  {
   "cell_type": "code",
   "execution_count": 5,
   "id": "b789596e-be34-4d1c-8244-f846a78a4a2b",
   "metadata": {},
   "outputs": [
    {
     "data": {
      "text/plain": [
       "['r1', 'r2', 'r3', 'r4', 'r5', 'r6', 'r7', 'r8', 'r9', 'r10']"
      ]
     },
     "execution_count": 5,
     "metadata": {},
     "output_type": "execute_result"
    }
   ],
   "source": [
    "['r1', 'r2', 'r3', 'r4', 'r5', 'r6', 'r7', 'r8', 'r9', 'r10']"
   ]
  },
  {
   "cell_type": "code",
   "execution_count": 6,
   "id": "68f8718b-0324-4949-aba0-7f756422427b",
   "metadata": {},
   "outputs": [
    {
     "data": {
      "text/plain": [
       "['c1', 'c2', 'c3', 'c4', 'c5', 'c6', 'c7', 'c8', 'c9', 'c10']"
      ]
     },
     "execution_count": 6,
     "metadata": {},
     "output_type": "execute_result"
    }
   ],
   "source": [
    "['c1', 'c2', 'c3', 'c4', 'c5', 'c6', 'c7', 'c8', 'c9', 'c10']"
   ]
  },
  {
   "cell_type": "markdown",
   "id": "505ebeff-3fea-4caf-8781-1b5aca21dd5d",
   "metadata": {},
   "source": [
    "### Using arange make a 2d array (10, 10) of 100 to 0 values."
   ]
  },
  {
   "cell_type": "code",
   "execution_count": 16,
   "id": "60000eb4-ca2b-41de-9bd1-a0c1f512f670",
   "metadata": {},
   "outputs": [],
   "source": [
    "array_2d = np.arange(100,0,-1)\n",
    "array_2d = array_2d.reshape(10,10)"
   ]
  },
  {
   "cell_type": "code",
   "execution_count": 17,
   "id": "93782b4c-21be-433a-a92f-d6505f36cff9",
   "metadata": {},
   "outputs": [
    {
     "data": {
      "text/plain": [
       "array([[100,  99,  98,  97,  96,  95,  94,  93,  92,  91],\n",
       "       [ 90,  89,  88,  87,  86,  85,  84,  83,  82,  81],\n",
       "       [ 80,  79,  78,  77,  76,  75,  74,  73,  72,  71],\n",
       "       [ 70,  69,  68,  67,  66,  65,  64,  63,  62,  61],\n",
       "       [ 60,  59,  58,  57,  56,  55,  54,  53,  52,  51],\n",
       "       [ 50,  49,  48,  47,  46,  45,  44,  43,  42,  41],\n",
       "       [ 40,  39,  38,  37,  36,  35,  34,  33,  32,  31],\n",
       "       [ 30,  29,  28,  27,  26,  25,  24,  23,  22,  21],\n",
       "       [ 20,  19,  18,  17,  16,  15,  14,  13,  12,  11],\n",
       "       [ 10,   9,   8,   7,   6,   5,   4,   3,   2,   1]])"
      ]
     },
     "execution_count": 17,
     "metadata": {},
     "output_type": "execute_result"
    }
   ],
   "source": [
    "array_2d"
   ]
  }
 ],
 "metadata": {
  "kernelspec": {
   "display_name": "Python 3 (ipykernel)",
   "language": "python",
   "name": "python3"
  },
  "language_info": {
   "codemirror_mode": {
    "name": "ipython",
    "version": 3
   },
   "file_extension": ".py",
   "mimetype": "text/x-python",
   "name": "python",
   "nbconvert_exporter": "python",
   "pygments_lexer": "ipython3",
   "version": "3.12.7"
  }
 },
 "nbformat": 4,
 "nbformat_minor": 5
}
